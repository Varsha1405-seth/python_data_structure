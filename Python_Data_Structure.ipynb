{
 "cells": [
  {
   "cell_type": "code",
   "execution_count": 5,
   "id": "31e771ac-4547-4c03-9496-b8703781bdf4",
   "metadata": {},
   "outputs": [
    {
     "data": {
      "text/plain": [
       "'dlroW olleH'"
      ]
     },
     "execution_count": 5,
     "metadata": {},
     "output_type": "execute_result"
    }
   ],
   "source": [
    "#1.\tWrite a code for reverse string.\n",
    "#Code:\n",
    "string1 = \"Hello World\"\n",
    "string1[::-1]\n"
   ]
  },
  {
   "cell_type": "code",
   "execution_count": 7,
   "id": "a31f610d-1ca3-42b6-84ef-834f512aef35",
   "metadata": {},
   "outputs": [
    {
     "name": "stdout",
     "output_type": "stream",
     "text": [
      "3\n"
     ]
    }
   ],
   "source": [
    "#2.\tWrite a code to count the number of vowels in a string.\n",
    "#code:\n",
    "my_string = \"hello World\"\n",
    "vowels = \"aeiouAEIOU\"\n",
    "vowel_count = sum(my_string.count(i) for i in vowels)\n",
    "print(vowel_count)\n"
   ]
  },
  {
   "cell_type": "code",
   "execution_count": 9,
   "id": "3956861b-f1d1-4d50-808b-580e107074eb",
   "metadata": {},
   "outputs": [
    {
     "name": "stdout",
     "output_type": "stream",
     "text": [
      "The given string is a Palindrome\n"
     ]
    }
   ],
   "source": [
    "#3.\tWrite a code to check if a given string is a palindrome or not.\n",
    "#code:\n",
    "string2=\"RADAR\"\n",
    "if (string2==string2[::-1]):\n",
    "    print(\"The given string is a Palindrome\")\n",
    "else:\n",
    "    print(\"The given string is not a Palindrome\")\n"
   ]
  },
  {
   "cell_type": "code",
   "execution_count": 13,
   "id": "2d5828d8-e3c1-4d53-aebe-7cd08a646a87",
   "metadata": {},
   "outputs": [
    {
     "name": "stdout",
     "output_type": "stream",
     "text": [
      "WORTH and THROW are anagrams\n"
     ]
    }
   ],
   "source": [
    "#4.\tWrite a code to check if two given strings are anagrams of each other.\n",
    "#code:\n",
    "from collections import Counter\n",
    "str1 = \"WORTH\"\n",
    "str2 = \"THROW\"\n",
    "if Counter(str1) == Counter(str2):\n",
    "    print(f\"{str1} and {str2} are anagrams\")\n",
    "else:\n",
    "    print(f\"{str1} and {str2} are not anagrams\")\n"
   ]
  },
  {
   "cell_type": "code",
   "execution_count": 23,
   "id": "5ad6cd2b-5f45-4912-b70b-a5ad73542e54",
   "metadata": {},
   "outputs": [
    {
     "name": "stdout",
     "output_type": "stream",
     "text": [
      "Total occurrences of 'e' in the list: 3\n"
     ]
    }
   ],
   "source": [
    "#5.\tWrite a code to find all occurrences of a given substring within another string.\n",
    "#code:\n",
    "str1 = [\"h\", \"e\", \"e\", \"f\", \"h\", \"j\", \"e\"]\n",
    "sub_str = \"e\"\n",
    "count_of_substring = str1.count(sub_str)\n",
    "print(f\"Total occurrences of '{sub_str}' in the list: {count_of_substring}\")\n"
   ]
  },
  {
   "cell_type": "code",
   "execution_count": 25,
   "id": "acfd8fe0-4618-404d-8436-e07912ddb2e2",
   "metadata": {},
   "outputs": [
    {
     "name": "stdout",
     "output_type": "stream",
     "text": [
      "a5b7c3a1b2a1\n"
     ]
    }
   ],
   "source": [
    "#6.\tWrite a code to perform basic string compression using the counts of repeated characters.\n",
    "#code:\n",
    "input_string = \"aaaaabbbbbbbcccabba\"\n",
    "compressed_string = \"\"\n",
    "count = 1\n",
    "if not input_string:\n",
    "    print(compressed_string)\n",
    "current_char = input_string[0]\n",
    "for i in range(1, len(input_string)):\n",
    "    if input_string[i] == current_char:\n",
    "        count += 1\n",
    "    else:\n",
    "        compressed_string += current_char + str(count)\n",
    "        current_char = input_string[i]\n",
    "        count = 1\n",
    "compressed_string += current_char + str(count)\n",
    "print(compressed_string)\n"
   ]
  },
  {
   "cell_type": "code",
   "execution_count": 29,
   "id": "16358817-3070-485f-8cd2-a374e0001ec4",
   "metadata": {},
   "outputs": [
    {
     "name": "stdout",
     "output_type": "stream",
     "text": [
      "All characters in the string are unique\n"
     ]
    }
   ],
   "source": [
    "#7.\tWrite a code to determine if a string has all unique characters.\n",
    "#code:\n",
    "string3 = \"test\"\n",
    "unique = True\n",
    "for i in range(len(string3)):\n",
    "    for j in range(i + 1, len(string3)):\n",
    "        if input_string[i] == string3[j]:\n",
    "            unique = False\n",
    "            break\n",
    "\n",
    "# Check if the string has all unique characters\n",
    "if unique:\n",
    "    print(\"All characters in the string are unique\")\n",
    "else:\n",
    "    print(\"String has repeated characters\")\n",
    "\n"
   ]
  },
  {
   "cell_type": "code",
   "execution_count": 31,
   "id": "8c38a0b2-9f33-4163-bceb-42bdff39b998",
   "metadata": {},
   "outputs": [
    {
     "name": "stdout",
     "output_type": "stream",
     "text": [
      "HELLO\n"
     ]
    }
   ],
   "source": [
    "#8.\t Write a code to convert a given string to uppercase or lowercase.\n",
    "#code:\n",
    "s = \"hello\"\n",
    "uppercase_string = s.upper()\n",
    "\n",
    "print(uppercase_string)\n"
   ]
  },
  {
   "cell_type": "code",
   "execution_count": 33,
   "id": "3ca55f53-d260-43b9-bb14-6b185604a66c",
   "metadata": {},
   "outputs": [
    {
     "data": {
      "text/plain": [
       "52"
      ]
     },
     "execution_count": 33,
     "metadata": {},
     "output_type": "execute_result"
    }
   ],
   "source": [
    "#9.\tWrite a code to count the number of words in a string.\n",
    "#Code:\n",
    "count_string= \"This is sample code to count no of words in a string\"\n",
    "len(count_string)\n"
   ]
  },
  {
   "cell_type": "code",
   "execution_count": 35,
   "id": "4d8bffe1-67d1-4a2f-bac1-683064e31fb8",
   "metadata": {},
   "outputs": [
    {
     "data": {
      "text/plain": [
       "'Hello World'"
      ]
     },
     "execution_count": 35,
     "metadata": {},
     "output_type": "execute_result"
    }
   ],
   "source": [
    "#10.Write a code to concatenate two strings without using the + operator.\n",
    "#code:\n",
    "\"Hello\" + \" World\""
   ]
  },
  {
   "cell_type": "code",
   "execution_count": 37,
   "id": "b4723e0e-3d38-4e3e-9ea1-869c535de83d",
   "metadata": {},
   "outputs": [
    {
     "name": "stdout",
     "output_type": "stream",
     "text": [
      "[1, 3, 4, 5]\n"
     ]
    }
   ],
   "source": [
    "#11.Write a code to remove all occurrences of a specific element from a list.\n",
    "#Code:\n",
    "list_occurance = [1, 2, 3, 2, 4, 5, 2]\n",
    "to_remove = 2\n",
    "\n",
    "list_occurance = [element for element in list_occurance if element != to_remove]\n",
    "\n",
    "print(list_occurance)\n"
   ]
  },
  {
   "cell_type": "code",
   "execution_count": 39,
   "id": "6e597289-05f8-46e9-8873-4fb78c91a3bf",
   "metadata": {},
   "outputs": [
    {
     "name": "stdout",
     "output_type": "stream",
     "text": [
      "25\n"
     ]
    }
   ],
   "source": [
    "#12.Implement a code to find the second largest number in a given list of integers.\n",
    "#Code:\n",
    "numbers = [10, 20, 15, 30, 25]\n",
    "max_number = max(numbers)\n",
    "numbers.remove(max_number)\n",
    "second_largest = max(numbers)\n",
    "print(second_largest)\n"
   ]
  },
  {
   "cell_type": "code",
   "execution_count": 41,
   "id": "077c1616-b403-4a2d-9a6a-803038a0f15b",
   "metadata": {},
   "outputs": [
    {
     "name": "stdout",
     "output_type": "stream",
     "text": [
      "{1: 1, 2: 3, 3: 2, 4: 1, 5: 2, 6: 1}\n"
     ]
    }
   ],
   "source": [
    "#13.Create a code to count the occurrences of each element in a list and return a dictionary with elements as keys and their counts as values.\n",
    "#Code:\n",
    "my_list = [1, 2, 3, 2, 4, 3, 2, 5, 6, 5]\n",
    "element_count = {}\n",
    "for element in my_list:\n",
    "    if element in element_count:\n",
    "        element_count[element] += 1\n",
    "    else:\n",
    "        element_count[element] = 1\n",
    "print(element_count)         \n"
   ]
  },
  {
   "cell_type": "code",
   "execution_count": 43,
   "id": "f095aeb9-d91b-4c62-9eab-d83c3ff3d673",
   "metadata": {},
   "outputs": [
    {
     "name": "stdout",
     "output_type": "stream",
     "text": [
      "[5, 4, 3, 2, 1]\n"
     ]
    }
   ],
   "source": [
    "#14.Write a code to reverse a list in-place without using any built-in reverse functions.\n",
    "#Code:\n",
    "my_list = [1, 2, 3, 4, 5]\n",
    "for i in range(len(my_list) // 2):\n",
    "    my_list[i], my_list[len(my_list) - 1 - i] = my_list[len(my_list) - 1 - i], my_list[i]\n",
    "\n",
    "print(my_list)\n"
   ]
  },
  {
   "cell_type": "code",
   "execution_count": 47,
   "id": "602a61a5-d5aa-4944-bdc9-d8087e1f08dc",
   "metadata": {},
   "outputs": [
    {
     "data": {
      "text/plain": [
       "{1, 2, 3, 4, 5, 6}"
      ]
     },
     "execution_count": 47,
     "metadata": {},
     "output_type": "execute_result"
    }
   ],
   "source": [
    "#15.Implement a code to find and remove duplicates from a list while preserving the original order of elements.\n",
    "#Code:\n",
    "my_list = [1, 2, 3, 2, 4, 1, 5, 6, 5]\n",
    "set(my_list)\n"
   ]
  },
  {
   "cell_type": "code",
   "execution_count": 49,
   "id": "1a6ba3eb-9eac-48fd-af12-cc4314016f27",
   "metadata": {},
   "outputs": [
    {
     "name": "stdout",
     "output_type": "stream",
     "text": [
      "The list is in ascending order.\n"
     ]
    }
   ],
   "source": [
    "#16.Create a code to check if a given list is sorted (either in ascending or descending order) or not.\n",
    "#code:\n",
    "my_list = [1, 2, 3, 4, 5, 6, 7, 8, 9]\n",
    "is_ascending = my_list == sorted(my_list)\n",
    "if is_ascending:\n",
    "     print(\"The list is in ascending order.\")\n",
    "else:\n",
    "    print(\"The list is in descending order.\")    \n"
   ]
  },
  {
   "cell_type": "code",
   "execution_count": 51,
   "id": "f2aa3b05-6a74-4196-b00c-33ab778a43f7",
   "metadata": {},
   "outputs": [
    {
     "name": "stdout",
     "output_type": "stream",
     "text": [
      "[1, 2, 3, 4, 5, 6, 7, 8]\n"
     ]
    }
   ],
   "source": [
    "#17.Write a code to merge two sorted lists into a single sorted list.\n",
    "#code:\n",
    "list1 = [1, 3, 5, 7]\n",
    "list2 = [2, 4, 6, 8]\n",
    "merged_list = sorted(list1 + list2)\n",
    "print(merged_list)\n"
   ]
  },
  {
   "cell_type": "code",
   "execution_count": 53,
   "id": "a3a20d8b-08e6-450d-a6a4-7701a16824d1",
   "metadata": {},
   "outputs": [
    {
     "data": {
      "text/plain": [
       "{'A', 'D'}"
      ]
     },
     "execution_count": 53,
     "metadata": {},
     "output_type": "execute_result"
    }
   ],
   "source": [
    "#18.Implement a code to find the intersection of two given lists.\n",
    "#code:\n",
    "s1={\"A\",\"B\",\"C\",\"D\",\"E\"}\n",
    "s2={\"A\",\"F\",\"G\",\"D\",\"H\"}\n",
    "s1&s2    \n"
   ]
  },
  {
   "cell_type": "code",
   "execution_count": 55,
   "id": "841a1433-caa9-47f5-8fe6-3295018b3d45",
   "metadata": {},
   "outputs": [
    {
     "data": {
      "text/plain": [
       "{'A', 'B', 'C', 'D', 'E', 'F', 'G', 'H'}"
      ]
     },
     "execution_count": 55,
     "metadata": {},
     "output_type": "execute_result"
    }
   ],
   "source": [
    "#19.Create a code to find the union of two lists without duplicates.\n",
    "#code:\n",
    "s1={\"A\",\"B\",\"C\",\"D\",\"E\"}\n",
    "s2={\"A\",\"F\",\"G\",\"D\",\"H\"}\n",
    "s1|s2\n"
   ]
  },
  {
   "cell_type": "code",
   "execution_count": 57,
   "id": "4a075fd8-f694-4ef3-b350-527c6f8f02ad",
   "metadata": {},
   "outputs": [
    {
     "name": "stdout",
     "output_type": "stream",
     "text": [
      "[1, 4, 3, 2, 5]\n"
     ]
    }
   ],
   "source": [
    "#20.Write a code to shuffle a given list randomly without using any built-in shuffle functions.\n",
    "import random\n",
    "my_list = [1, 2, 3, 4, 5]\n",
    "random.shuffle(my_list)\n",
    "print(my_list)\n"
   ]
  },
  {
   "cell_type": "code",
   "execution_count": 59,
   "id": "5c8c9ab9-bd08-4a25-92ff-57247cd6252b",
   "metadata": {},
   "outputs": [
    {
     "name": "stdout",
     "output_type": "stream",
     "text": [
      "{4, 5, 6, 7, 9}\n"
     ]
    }
   ],
   "source": [
    "#21.Write a code that takes two tuples as input and returns a new tuple containing elements that are common to both input tuples.\n",
    "#code:\n",
    "tuple1 = (1,2,3,4,5,6,9,7,2)\n",
    "tuple2 = (7,8,9,10,11,12,5,6,4)\n",
    "set1 = set(tuple1)\n",
    "set2 = set(tuple2)\n",
    "common_tuple = set1 & set2\n",
    "print(common_tuple)\n"
   ]
  },
  {
   "cell_type": "code",
   "execution_count": 61,
   "id": "d21b2d17-5112-4695-9266-fc1a5cdca37e",
   "metadata": {},
   "outputs": [
    {
     "name": "stdin",
     "output_type": "stream",
     "text": [
      "Enter the first set of integers:  1,2,3,4,5,6\n",
      "Enter the second set of integers:  7,8,9,10,11,12\n"
     ]
    },
    {
     "name": "stdout",
     "output_type": "stream",
     "text": [
      "Intersection of the two sets: set()\n"
     ]
    }
   ],
   "source": [
    "#22.Create a code that prompts the user to enter two sets of integers separated by commas. Then, print the intersection of these two sets. \n",
    "#code:\n",
    "set1 = set(input(\"Enter the first set of integers: \").split(','))\n",
    "set2 = set(input(\"Enter the second set of integers: \").split(','))\n",
    "set3 = set1 & set2\n",
    "print(\"Intersection of the two sets:\", set3)\n"
   ]
  },
  {
   "cell_type": "code",
   "execution_count": 63,
   "id": "794c4872-2504-451f-a009-520749ce75b5",
   "metadata": {},
   "outputs": [
    {
     "name": "stdout",
     "output_type": "stream",
     "text": [
      "Concatenated tuple: (1, 2, 3, 4, 5, 6)\n"
     ]
    }
   ],
   "source": [
    "#23.Write a code to concatenate two tuples. The function should take two tuples as input and return a new tuple containing elements from both input tuples.\n",
    "#code:\n",
    "tuple1 = (1, 2, 3)\n",
    "tuple2 = (4, 5, 6)\n",
    "tuple3 = tuple1 + tuple2\n",
    "print(\"Concatenated tuple:\", tuple3)\n"
   ]
  },
  {
   "cell_type": "code",
   "execution_count": 65,
   "id": "053fbf5b-7732-478b-9456-4c6822fbfdd2",
   "metadata": {},
   "outputs": [
    {
     "name": "stdin",
     "output_type": "stream",
     "text": [
      "Enter the first set of strings:  a,b,c,d,e,f\n",
      "Enter the second set of strings:  b,c,d,e,f\n"
     ]
    },
    {
     "name": "stdout",
     "output_type": "stream",
     "text": [
      "Intersection of the two sets: {'c', 'f', 'd', 'e', 'b'}\n"
     ]
    }
   ],
   "source": [
    "#24.Develop a code that prompts the user to input two sets of strings. Then, print the elements that are present in the first set but not in the second set.\n",
    "#code:\n",
    "set1 = set(input(\"Enter the first set of strings: \").split(','))\n",
    "set2 = set(input(\"Enter the second set of strings: \").split(','))\n",
    "set3 = set1 & set2\n",
    "print(\"Intersection of the two sets:\", set3)\n",
    "\n"
   ]
  },
  {
   "cell_type": "code",
   "execution_count": 67,
   "id": "e97791fb-7bed-4483-b2ee-77a1df5d3199",
   "metadata": {},
   "outputs": [
    {
     "name": "stdout",
     "output_type": "stream",
     "text": [
      "New tuple: (2, 3, 4, 5)\n"
     ]
    }
   ],
   "source": [
    "#25.Create a code that takes a tuple and two integers as input. The function should return a new tuple containing elements from the original tuple within the specified range of indices.\n",
    "#code:\n",
    "original_tuple = (1, 2, 3, 4, 5, 6)\n",
    "start_index = 1\n",
    "end_index = 4\n",
    "new_tuple = original_tuple[start_index:end_index + 1]\n",
    "print(\"New tuple:\", new_tuple)\n"
   ]
  },
  {
   "cell_type": "code",
   "execution_count": 69,
   "id": "857df0a9-ed46-4600-971f-dc5f93fa5a90",
   "metadata": {},
   "outputs": [
    {
     "name": "stdin",
     "output_type": "stream",
     "text": [
      "Enter the first set of characters separated by commas:  a,b,c,d\n",
      "Enter the second set of characters separated by commas:  c,e,f,g,h\n"
     ]
    },
    {
     "name": "stdout",
     "output_type": "stream",
     "text": [
      "Union of the two sets: {'g', 'h', 'c', 'f', 'd', 'e', 'a', 'b'}\n"
     ]
    }
   ],
   "source": [
    "#26. Write a code that prompts the user to input two sets of characters. Then, print the union of these two sets.\n",
    "#code:\n",
    "set1 = set(input(\"Enter the first set of characters separated by commas: \").split(','))\n",
    "set2 = set(input(\"Enter the second set of characters separated by commas: \").split(','))\n",
    "union_set = set1 | set2\n",
    "print(\"Union of the two sets:\", union_set)\n",
    "    "
   ]
  },
  {
   "cell_type": "code",
   "execution_count": 71,
   "id": "da6cff01-465f-4d73-9a88-ed04e7d230fa",
   "metadata": {},
   "outputs": [
    {
     "name": "stdout",
     "output_type": "stream",
     "text": [
      "Maximum value: 12\n",
      "Minimum value: 3\n"
     ]
    }
   ],
   "source": [
    "#27.Develop a code that takes a tuple of integers as input. The function should return the maximum and minimum values from the tuple using tuple unpacking.\n",
    "#code:\n",
    "input_tuple = (5, 8, 3, 12, 6)\n",
    "max_value = max(input_tuple)\n",
    "min_value = min(input_tuple)\n",
    "\n",
    "print(\"Maximum value:\", max_value)\n",
    "print(\"Minimum value:\", min_value)\n",
    "\n"
   ]
  },
  {
   "cell_type": "code",
   "execution_count": 73,
   "id": "5a58013e-2f1f-4d29-88bf-72e5e3e0bd5d",
   "metadata": {},
   "outputs": [
    {
     "name": "stdout",
     "output_type": "stream",
     "text": [
      "Union of the two sets: {1, 2, 3, 4, 5, 6, 7, 8}\n",
      "Intersection of the two sets: {4, 5}\n",
      "Difference between the two sets: {1, 2, 3}\n"
     ]
    }
   ],
   "source": [
    "#28.Create a code that defines two sets of integers. Then, print the union, intersection, and difference of these two sets.\n",
    "#code:\n",
    "set1 = {1, 2, 3, 4, 5}\n",
    "set2 = {4, 5, 6, 7, 8}\n",
    "union_set = set1 | set2\n",
    "intersection_set = set1 & set2\n",
    "difference_set = set1 - set2\n",
    "print(\"Union of the two sets:\", union_set)\n",
    "print(\"Intersection of the two sets:\", intersection_set)\n",
    "print(\"Difference between the two sets:\", difference_set)\n"
   ]
  },
  {
   "cell_type": "code",
   "execution_count": 75,
   "id": "fdb9e881-7ca9-46fb-bcca-3c53824b6f8a",
   "metadata": {},
   "outputs": [
    {
     "name": "stdout",
     "output_type": "stream",
     "text": [
      "6\n"
     ]
    }
   ],
   "source": [
    "#29.Write a code that takes a tuple and an element as input. The function should return the count of occurrences of the given element in the tuple.\n",
    "#code:\n",
    "tuple1 = (1,2,3,3,4,5,6,7,8,3,2,3,8,9,3,6,3)\n",
    "element = 3\n",
    "count_element = tuple1.count(3)\n",
    "print(count_element)\n",
    "   "
   ]
  },
  {
   "cell_type": "code",
   "execution_count": 77,
   "id": "c90bf047-1d27-48d8-93ec-2b28f0cc8d38",
   "metadata": {},
   "outputs": [
    {
     "name": "stdin",
     "output_type": "stream",
     "text": [
      "Enter the first set of strings:  a,b,c,d\n",
      "Enter the second set of strings:  e,f,g,h\n"
     ]
    },
    {
     "name": "stdout",
     "output_type": "stream",
     "text": [
      "Symmetric difference: {'g', 'h', 'f', 'c', 'd', 'e', 'a', 'b'}\n"
     ]
    }
   ],
   "source": [
    "#30.Develop a code that prompts the user to input two sets of strings. Then, print the symmetric difference of these two sets.\n",
    "#code:\n",
    "set1 = set(input(\"Enter the first set of strings: \").split(','))\n",
    "set2 = set(input(\"Enter the second set of strings: \").split(','))\n",
    "symmetric_difference_set = set1 ^ set2\n",
    "print(\"Symmetric difference:\", symmetric_difference_set)\n"
   ]
  },
  {
   "cell_type": "code",
   "execution_count": 79,
   "id": "8337238b-8bb6-445d-8561-0146553bac81",
   "metadata": {},
   "outputs": [
    {
     "name": "stdout",
     "output_type": "stream",
     "text": [
      "Dictionary with word frequencies: {'banana': 2, 'orange': 1, 'apple': 3}\n"
     ]
    }
   ],
   "source": [
    "#31.Write a code that takes a list of words as input and returns a dictionary where the keys are unique words and the values are the frequencies of those words in the input list.\n",
    "#code:\n",
    "list1 = ['apple', 'banana', 'apple', 'orange', 'banana', 'apple']\n",
    "freq_dict = dict.fromkeys(set(list1), 0)\n",
    "for word in list1:\n",
    "    freq_dict[word] += 1\n",
    "print(\"Dictionary with word frequencies:\", freq_dict)\n"
   ]
  },
  {
   "cell_type": "code",
   "execution_count": 81,
   "id": "ff0eb66e-e6a0-4662-ae6b-0566eb51a191",
   "metadata": {},
   "outputs": [
    {
     "name": "stdout",
     "output_type": "stream",
     "text": [
      "Merged Dictionary: {'a': 10, 'b': 25, 'c': 45, 'd': 25}\n"
     ]
    }
   ],
   "source": [
    "#32.Write a code that takes two dictionaries as input and merges them into a single dictionary. If there are common keys, the values should be added together.\n",
    "#code:\n",
    "dict1 = {'a': 10, 'b': 20, 'c': 30}\n",
    "dict2 = {'b': 5, 'c': 15, 'd': 25}\n",
    "merged_dict = dict1.copy()\n",
    "for key, value in dict2.items():\n",
    "    merged_dict[key] = merged_dict.get(key, 0) + value\n",
    "print(\"Merged Dictionary:\", merged_dict)\n",
    "\n"
   ]
  },
  {
   "cell_type": "code",
   "execution_count": 96,
   "id": "bc1862f9-72df-42f3-bb74-7ce4c6f8e3f5",
   "metadata": {},
   "outputs": [
    {
     "name": "stdout",
     "output_type": "stream",
     "text": [
      "Corresponding value: 100\n"
     ]
    }
   ],
   "source": [
    "#33.Write a code to access a value in a nested dictionary. The function should take the dictionary and a list of keys as input, and return the corresponding value. If any of the keys do not exist in the dictionary, the function should return None.\n",
    "#code:\n",
    "nested_dict = {'a': {'b': {'c': 100}}}\n",
    "keys = ['a', 'b', 'c',]\n",
    "result = nested_dict\n",
    "for key in keys:\n",
    "    result = result.get(key)\n",
    "    if result is None:\n",
    "        break\n",
    "print(\"Corresponding value:\", result)\n"
   ]
  },
  {
   "cell_type": "code",
   "execution_count": 98,
   "id": "226742d0-5cab-4039-88a4-39775460dc33",
   "metadata": {},
   "outputs": [
    {
     "name": "stdout",
     "output_type": "stream",
     "text": [
      "Sorted Dictionary based on values in descending order:\n",
      "{'cherry': 8, 'apple': 5, 'date': 3, 'banana': 2}\n"
     ]
    }
   ],
   "source": [
    "#34.Write a code that takes a dictionary as input and returns a sorted version of it based on the values. You can choose whether to sort in ascending or descending order.\n",
    "#code:\n",
    "input_dict = {'apple': 5, 'banana': 2, 'cherry': 8, 'date': 3}\n",
    "\n",
    "sorted_dict = dict(sorted(input_dict.items(), key=lambda item: item[1], reverse=True))\n",
    "\n",
    "print(\"Sorted Dictionary based on values in descending order:\")\n",
    "print(sorted_dict)\n"
   ]
  },
  {
   "cell_type": "code",
   "execution_count": 100,
   "id": "2b028956-1058-46bd-b33d-cbc6fc8d3600",
   "metadata": {},
   "outputs": [
    {
     "name": "stdout",
     "output_type": "stream",
     "text": [
      "{1: ['a', 'c'], 2: ['b'], 3: ['d']}\n"
     ]
    }
   ],
   "source": [
    "#35.Write a code that inverts a dictionary, swapping keys and values. Ensure that the inverted dictionary correctly handles cases where multiple keys have the same value by storing the keys as a list in the inverted dictionary.\n",
    "#code:\n",
    "original_dict = {'a': 1, 'b': 2, 'c': 1, 'd': 3}\n",
    "inverted_dict = {}\n",
    "for key, value in original_dict.items():\n",
    "    inverted_dict.setdefault(value, []).append(key)\n",
    "print(inverted_dict)\n"
   ]
  },
  {
   "cell_type": "code",
   "execution_count": null,
   "id": "554ef18a-2c37-436d-9605-a89784a93625",
   "metadata": {},
   "outputs": [],
   "source": []
  }
 ],
 "metadata": {
  "kernelspec": {
   "display_name": "Python 3 (ipykernel)",
   "language": "python",
   "name": "python3"
  },
  "language_info": {
   "codemirror_mode": {
    "name": "ipython",
    "version": 3
   },
   "file_extension": ".py",
   "mimetype": "text/x-python",
   "name": "python",
   "nbconvert_exporter": "python",
   "pygments_lexer": "ipython3",
   "version": "3.12.7"
  }
 },
 "nbformat": 4,
 "nbformat_minor": 5
}
